{
 "cells": [
  {
   "cell_type": "markdown",
   "metadata": {},
   "source": [
    "This notebook is intended to plot data from CSmetrics as time series.\n",
    "\n",
    "Goal 1: plot institutional influence overtime in a given area / venue (e.g. Microsoft vs CMU in PL, or ML)"
   ]
  },
  {
   "cell_type": "code",
   "execution_count": 6,
   "metadata": {
    "collapsed": true
   },
   "outputs": [],
   "source": [
    "import os, sys\n",
    "import pandas as pd\n",
    "import numpy as np\n",
    "import pickle\n",
    "import json,csv\n",
    "#from datetime import datetime \n",
    "\n",
    "%matplotlib inline "
   ]
  },
  {
   "cell_type": "code",
   "execution_count": 2,
   "metadata": {
    "collapsed": false
   },
   "outputs": [
    {
     "name": "stdout",
     "output_type": "stream",
     "text": [
      "[2007, 2008, 2009, 2010, 2011, 2012, 2013, 2014, 2015, 2016]\n"
     ]
    }
   ],
   "source": [
    "cur_conf = 'icml'\n",
    "institution_list = 'stanford university,microsoft,carnegie mellon university'\n",
    "institution_list = institution_list.split(',')\n",
    "\n",
    "# default year range\n",
    "year_range = [i for i in range(2007,2017)]\n",
    "print(year_range)"
   ]
  },
  {
   "cell_type": "code",
   "execution_count": 3,
   "metadata": {
    "collapsed": false
   },
   "outputs": [
    {
     "data": {
      "text/plain": [
       "(                              2007     2008     2009     2010     2011  \\\n",
       " university college london   80.400   68.450   62.167    0.000  107.500   \n",
       " siemens                     17.667    0.000    2.000    0.000  101.000   \n",
       " google                     372.967  413.167  122.964  234.667  128.917   \n",
       " aalborg university          29.000    0.000    0.000    0.000    0.000   \n",
       " princeton university        29.000   42.000    0.000  238.750   71.667   \n",
       " \n",
       "                               2012     2013      2014      2015     2016  \n",
       " university college london  233.800  126.417    41.167    19.667   10.000  \n",
       " siemens                      0.000    0.000     0.000     0.000    0.000  \n",
       " google                     682.867  334.667  1345.533  1576.833  298.367  \n",
       " aalborg university           0.000    0.000     0.000     0.000    0.000  \n",
       " princeton university       121.800  111.500    67.800    21.667   77.200  ,\n",
       "                             2007   2008   2009   2010   2011  2012   2013  \\\n",
       " university college london  1.150  1.450  1.333  0.000  0.750  6.60  4.083   \n",
       " siemens                    0.333  0.000  0.500  0.000  0.500  0.25  0.000   \n",
       " google                     2.117  6.000  3.393  3.167  0.917  3.40  6.667   \n",
       " aalborg university         1.000  0.000  0.000  0.000  0.000  0.00  0.000   \n",
       " princeton university       1.333  0.833  1.000  3.250  1.833  1.70  3.833   \n",
       " \n",
       "                             2014   2015    2016  \n",
       " university college london  2.833  1.333   1.500  \n",
       " siemens                    0.000  0.000   0.000  \n",
       " google                     9.200  7.833  11.867  \n",
       " aalborg university         0.000  0.000   0.000  \n",
       " princeton university       3.283  2.917   9.950  )"
      ]
     },
     "execution_count": 3,
     "metadata": {},
     "output_type": "execute_result"
    }
   ],
   "source": [
    "data_dir = '../scores/'\n",
    "cur_path = '../app/'\n",
    "\n",
    "# read topic-venue mapping\n",
    "FILE_CATEGORY = os.path.join(cur_path, \"data/venue_category.csv\")\n",
    "## TODO\n",
    "\n",
    "df_cite = pd.DataFrame(data=None, columns=year_range)\n",
    "df_pub = pd.DataFrame(data=None, columns=year_range)\n",
    "\n",
    "# read info on the designated conference(s) into a dataframe\n",
    "for y in year_range:# year_range:\n",
    "    # file names look like icml_2007_affiliations.json\n",
    "    paper_file_name = os.path.join(data_dir, cur_conf+'_'+str(y)+'_affiliations.json')\n",
    "    cflist = json.load(open(paper_file_name, \"r\"))\n",
    "    \n",
    "    for k,v in cflist.items():\n",
    "        df_cite.ix[k, y] = v['Citation Count']\n",
    "        df_pub.ix[k, y] = v['Publication Count']\n",
    "    #print (cflist, len(cflist), cflist['cornell university'])\n",
    "\n",
    "df_cite.fillna(value=0, inplace=True)\n",
    "df_pub.fillna(value=0, inplace=True)\n",
    "df_cite.head(), df_pub.head() \n"
   ]
  },
  {
   "cell_type": "code",
   "execution_count": 11,
   "metadata": {
    "collapsed": false
   },
   "outputs": [
    {
     "name": "stdout",
     "output_type": "stream",
     "text": [
      "[[  840.5     159.667  1426.5      73.4    1481.5     420.733   484.\n",
      "    229.667    92.833   102.   ]\n",
      " [  511.8     220.45    245.167   552.      174.5     848.      416.667\n",
      "    205.333    87.917    35.333]\n",
      " [  507.9     176.667   431.5     496.167   482.      174.3     208.833\n",
      "    102.567    98.45     55.   ]]\n"
     ]
    },
    {
     "ename": "ValueError",
     "evalue": "x and y must have same first dimension",
     "output_type": "error",
     "traceback": [
      "\u001b[0;31m---------------------------------------------------------------------------\u001b[0m",
      "\u001b[0;31mValueError\u001b[0m                                Traceback (most recent call last)",
      "\u001b[0;32m<ipython-input-11-df3337adc5a7>\u001b[0m in \u001b[0;36m<module>\u001b[0;34m()\u001b[0m\n\u001b[1;32m     15\u001b[0m \u001b[0;34m\u001b[0m\u001b[0m\n\u001b[1;32m     16\u001b[0m \u001b[0mprint\u001b[0m\u001b[0;34m(\u001b[0m\u001b[0mnp\u001b[0m\u001b[0;34m.\u001b[0m\u001b[0marray\u001b[0m\u001b[0;34m(\u001b[0m\u001b[0mdf_cite\u001b[0m\u001b[0;34m.\u001b[0m\u001b[0mix\u001b[0m\u001b[0;34m[\u001b[0m\u001b[0minstitution_list\u001b[0m\u001b[0;34m,\u001b[0m\u001b[0;34m:\u001b[0m\u001b[0;34m]\u001b[0m\u001b[0;34m)\u001b[0m\u001b[0;34m)\u001b[0m\u001b[0;34m\u001b[0m\u001b[0m\n\u001b[0;32m---> 17\u001b[0;31m \u001b[0max1\u001b[0m\u001b[0;34m.\u001b[0m\u001b[0mplot\u001b[0m\u001b[0;34m(\u001b[0m\u001b[0myear_range\u001b[0m\u001b[0;34m,\u001b[0m \u001b[0mnp\u001b[0m\u001b[0;34m.\u001b[0m\u001b[0marray\u001b[0m\u001b[0;34m(\u001b[0m\u001b[0mdf_cite\u001b[0m\u001b[0;34m.\u001b[0m\u001b[0mix\u001b[0m\u001b[0;34m[\u001b[0m\u001b[0minstitution_list\u001b[0m\u001b[0;34m,\u001b[0m\u001b[0;34m:\u001b[0m\u001b[0;34m]\u001b[0m\u001b[0;34m)\u001b[0m\u001b[0;34m)\u001b[0m\u001b[0;34m\u001b[0m\u001b[0m\n\u001b[0m",
      "\u001b[0;32m/Users/xlx/anaconda/lib/python3.5/site-packages/matplotlib/__init__.py\u001b[0m in \u001b[0;36minner\u001b[0;34m(ax, *args, **kwargs)\u001b[0m\n\u001b[1;32m   1809\u001b[0m                     warnings.warn(msg % (label_namer, func.__name__),\n\u001b[1;32m   1810\u001b[0m                                   RuntimeWarning, stacklevel=2)\n\u001b[0;32m-> 1811\u001b[0;31m             \u001b[0;32mreturn\u001b[0m \u001b[0mfunc\u001b[0m\u001b[0;34m(\u001b[0m\u001b[0max\u001b[0m\u001b[0;34m,\u001b[0m \u001b[0;34m*\u001b[0m\u001b[0margs\u001b[0m\u001b[0;34m,\u001b[0m \u001b[0;34m**\u001b[0m\u001b[0mkwargs\u001b[0m\u001b[0;34m)\u001b[0m\u001b[0;34m\u001b[0m\u001b[0m\n\u001b[0m\u001b[1;32m   1812\u001b[0m         \u001b[0mpre_doc\u001b[0m \u001b[0;34m=\u001b[0m \u001b[0minner\u001b[0m\u001b[0;34m.\u001b[0m\u001b[0m__doc__\u001b[0m\u001b[0;34m\u001b[0m\u001b[0m\n\u001b[1;32m   1813\u001b[0m         \u001b[0;32mif\u001b[0m \u001b[0mpre_doc\u001b[0m \u001b[0;32mis\u001b[0m \u001b[0;32mNone\u001b[0m\u001b[0;34m:\u001b[0m\u001b[0;34m\u001b[0m\u001b[0m\n",
      "\u001b[0;32m/Users/xlx/anaconda/lib/python3.5/site-packages/matplotlib/axes/_axes.py\u001b[0m in \u001b[0;36mplot\u001b[0;34m(self, *args, **kwargs)\u001b[0m\n\u001b[1;32m   1425\u001b[0m             \u001b[0mkwargs\u001b[0m\u001b[0;34m[\u001b[0m\u001b[0;34m'color'\u001b[0m\u001b[0;34m]\u001b[0m \u001b[0;34m=\u001b[0m \u001b[0mc\u001b[0m\u001b[0;34m\u001b[0m\u001b[0m\n\u001b[1;32m   1426\u001b[0m \u001b[0;34m\u001b[0m\u001b[0m\n\u001b[0;32m-> 1427\u001b[0;31m         \u001b[0;32mfor\u001b[0m \u001b[0mline\u001b[0m \u001b[0;32min\u001b[0m \u001b[0mself\u001b[0m\u001b[0;34m.\u001b[0m\u001b[0m_get_lines\u001b[0m\u001b[0;34m(\u001b[0m\u001b[0;34m*\u001b[0m\u001b[0margs\u001b[0m\u001b[0;34m,\u001b[0m \u001b[0;34m**\u001b[0m\u001b[0mkwargs\u001b[0m\u001b[0;34m)\u001b[0m\u001b[0;34m:\u001b[0m\u001b[0;34m\u001b[0m\u001b[0m\n\u001b[0m\u001b[1;32m   1428\u001b[0m             \u001b[0mself\u001b[0m\u001b[0;34m.\u001b[0m\u001b[0madd_line\u001b[0m\u001b[0;34m(\u001b[0m\u001b[0mline\u001b[0m\u001b[0;34m)\u001b[0m\u001b[0;34m\u001b[0m\u001b[0m\n\u001b[1;32m   1429\u001b[0m             \u001b[0mlines\u001b[0m\u001b[0;34m.\u001b[0m\u001b[0mappend\u001b[0m\u001b[0;34m(\u001b[0m\u001b[0mline\u001b[0m\u001b[0;34m)\u001b[0m\u001b[0;34m\u001b[0m\u001b[0m\n",
      "\u001b[0;32m/Users/xlx/anaconda/lib/python3.5/site-packages/matplotlib/axes/_base.py\u001b[0m in \u001b[0;36m_grab_next_args\u001b[0;34m(self, *args, **kwargs)\u001b[0m\n\u001b[1;32m    384\u001b[0m                 \u001b[0;32mreturn\u001b[0m\u001b[0;34m\u001b[0m\u001b[0m\n\u001b[1;32m    385\u001b[0m             \u001b[0;32mif\u001b[0m \u001b[0mlen\u001b[0m\u001b[0;34m(\u001b[0m\u001b[0mremaining\u001b[0m\u001b[0;34m)\u001b[0m \u001b[0;34m<=\u001b[0m \u001b[0;36m3\u001b[0m\u001b[0;34m:\u001b[0m\u001b[0;34m\u001b[0m\u001b[0m\n\u001b[0;32m--> 386\u001b[0;31m                 \u001b[0;32mfor\u001b[0m \u001b[0mseg\u001b[0m \u001b[0;32min\u001b[0m \u001b[0mself\u001b[0m\u001b[0;34m.\u001b[0m\u001b[0m_plot_args\u001b[0m\u001b[0;34m(\u001b[0m\u001b[0mremaining\u001b[0m\u001b[0;34m,\u001b[0m \u001b[0mkwargs\u001b[0m\u001b[0;34m)\u001b[0m\u001b[0;34m:\u001b[0m\u001b[0;34m\u001b[0m\u001b[0m\n\u001b[0m\u001b[1;32m    387\u001b[0m                     \u001b[0;32myield\u001b[0m \u001b[0mseg\u001b[0m\u001b[0;34m\u001b[0m\u001b[0m\n\u001b[1;32m    388\u001b[0m                 \u001b[0;32mreturn\u001b[0m\u001b[0;34m\u001b[0m\u001b[0m\n",
      "\u001b[0;32m/Users/xlx/anaconda/lib/python3.5/site-packages/matplotlib/axes/_base.py\u001b[0m in \u001b[0;36m_plot_args\u001b[0;34m(self, tup, kwargs)\u001b[0m\n\u001b[1;32m    362\u001b[0m             \u001b[0mx\u001b[0m\u001b[0;34m,\u001b[0m \u001b[0my\u001b[0m \u001b[0;34m=\u001b[0m \u001b[0mindex_of\u001b[0m\u001b[0;34m(\u001b[0m\u001b[0mtup\u001b[0m\u001b[0;34m[\u001b[0m\u001b[0;34m-\u001b[0m\u001b[0;36m1\u001b[0m\u001b[0;34m]\u001b[0m\u001b[0;34m)\u001b[0m\u001b[0;34m\u001b[0m\u001b[0m\n\u001b[1;32m    363\u001b[0m \u001b[0;34m\u001b[0m\u001b[0m\n\u001b[0;32m--> 364\u001b[0;31m         \u001b[0mx\u001b[0m\u001b[0;34m,\u001b[0m \u001b[0my\u001b[0m \u001b[0;34m=\u001b[0m \u001b[0mself\u001b[0m\u001b[0;34m.\u001b[0m\u001b[0m_xy_from_xy\u001b[0m\u001b[0;34m(\u001b[0m\u001b[0mx\u001b[0m\u001b[0;34m,\u001b[0m \u001b[0my\u001b[0m\u001b[0;34m)\u001b[0m\u001b[0;34m\u001b[0m\u001b[0m\n\u001b[0m\u001b[1;32m    365\u001b[0m \u001b[0;34m\u001b[0m\u001b[0m\n\u001b[1;32m    366\u001b[0m         \u001b[0;32mif\u001b[0m \u001b[0mself\u001b[0m\u001b[0;34m.\u001b[0m\u001b[0mcommand\u001b[0m \u001b[0;34m==\u001b[0m \u001b[0;34m'plot'\u001b[0m\u001b[0;34m:\u001b[0m\u001b[0;34m\u001b[0m\u001b[0m\n",
      "\u001b[0;32m/Users/xlx/anaconda/lib/python3.5/site-packages/matplotlib/axes/_base.py\u001b[0m in \u001b[0;36m_xy_from_xy\u001b[0;34m(self, x, y)\u001b[0m\n\u001b[1;32m    221\u001b[0m         \u001b[0my\u001b[0m \u001b[0;34m=\u001b[0m \u001b[0m_check_1d\u001b[0m\u001b[0;34m(\u001b[0m\u001b[0my\u001b[0m\u001b[0;34m)\u001b[0m\u001b[0;34m\u001b[0m\u001b[0m\n\u001b[1;32m    222\u001b[0m         \u001b[0;32mif\u001b[0m \u001b[0mx\u001b[0m\u001b[0;34m.\u001b[0m\u001b[0mshape\u001b[0m\u001b[0;34m[\u001b[0m\u001b[0;36m0\u001b[0m\u001b[0;34m]\u001b[0m \u001b[0;34m!=\u001b[0m \u001b[0my\u001b[0m\u001b[0;34m.\u001b[0m\u001b[0mshape\u001b[0m\u001b[0;34m[\u001b[0m\u001b[0;36m0\u001b[0m\u001b[0;34m]\u001b[0m\u001b[0;34m:\u001b[0m\u001b[0;34m\u001b[0m\u001b[0m\n\u001b[0;32m--> 223\u001b[0;31m             \u001b[0;32mraise\u001b[0m \u001b[0mValueError\u001b[0m\u001b[0;34m(\u001b[0m\u001b[0;34m\"x and y must have same first dimension\"\u001b[0m\u001b[0;34m)\u001b[0m\u001b[0;34m\u001b[0m\u001b[0m\n\u001b[0m\u001b[1;32m    224\u001b[0m         \u001b[0;32mif\u001b[0m \u001b[0mx\u001b[0m\u001b[0;34m.\u001b[0m\u001b[0mndim\u001b[0m \u001b[0;34m>\u001b[0m \u001b[0;36m2\u001b[0m \u001b[0;32mor\u001b[0m \u001b[0my\u001b[0m\u001b[0;34m.\u001b[0m\u001b[0mndim\u001b[0m \u001b[0;34m>\u001b[0m \u001b[0;36m2\u001b[0m\u001b[0;34m:\u001b[0m\u001b[0;34m\u001b[0m\u001b[0m\n\u001b[1;32m    225\u001b[0m             \u001b[0;32mraise\u001b[0m \u001b[0mValueError\u001b[0m\u001b[0;34m(\u001b[0m\u001b[0;34m\"x and y can be no greater than 2-D\"\u001b[0m\u001b[0;34m)\u001b[0m\u001b[0;34m\u001b[0m\u001b[0m\n",
      "\u001b[0;31mValueError\u001b[0m: x and y must have same first dimension"
     ]
    },
    {
     "data": {
      "image/png": "[encoded data removed]",
      "text/plain": [
       "<matplotlib.figure.Figure at 0x112bc5828>"
      ]
     },
     "metadata": {},
     "output_type": "display_data"
    }
   ],
   "source": [
    "# plot this for a given list of institutions\n",
    "import seaborn as sns\n",
    "import matplotlib.pyplot as plt\n",
    "sns.set()\n",
    "clrs = sns.color_palette(\"muted\")\n",
    "\n",
    "num_lines = len(institution_list)\n",
    "#df_cite.ix[institution_list,:].plot(kind='line') #color=clrs[:num_lines]\n",
    "\n",
    "plt.figure(figsize=(16, 8))\n",
    "\n",
    "ax1 = plt.subplot(1, 2, 1)\n",
    "sns.set_context(\"talk\", font_scale=1.)\n",
    "sns.set_style(\"whitegrid\")\n",
    "\n",
    "print(np.array(df_cite.ix[institution_list,:]))\n",
    "ax1.plot(year_range, np.array(df_cite.ix[institution_list,:]))"
   ]
  },
  {
   "cell_type": "code",
   "execution_count": 33,
   "metadata": {
    "collapsed": false
   },
   "outputs": [
    {
     "data": {
      "text/html": [
       "<div>\n",
       "<table border=\"1\" class=\"dataframe\">\n",
       "  <thead>\n",
       "    <tr style=\"text-align: right;\">\n",
       "      <th></th>\n",
       "      <th>2007</th>\n",
       "      <th>2008</th>\n",
       "      <th>2009</th>\n",
       "      <th>2010</th>\n",
       "      <th>2011</th>\n",
       "      <th>2012</th>\n",
       "      <th>2013</th>\n",
       "      <th>2014</th>\n",
       "      <th>2015</th>\n",
       "      <th>2016</th>\n",
       "    </tr>\n",
       "  </thead>\n",
       "  <tbody>\n",
       "    <tr>\n",
       "      <th>microsoft</th>\n",
       "      <td>511.8</td>\n",
       "      <td>220.450</td>\n",
       "      <td>245.167</td>\n",
       "      <td>552.000</td>\n",
       "      <td>174.5</td>\n",
       "      <td>848.0</td>\n",
       "      <td>416.667</td>\n",
       "      <td>205.333</td>\n",
       "      <td>87.917</td>\n",
       "      <td>35.333</td>\n",
       "    </tr>\n",
       "    <tr>\n",
       "      <th>carnegie mellon university</th>\n",
       "      <td>507.9</td>\n",
       "      <td>176.667</td>\n",
       "      <td>431.500</td>\n",
       "      <td>496.167</td>\n",
       "      <td>482.0</td>\n",
       "      <td>174.3</td>\n",
       "      <td>208.833</td>\n",
       "      <td>102.567</td>\n",
       "      <td>98.450</td>\n",
       "      <td>55.000</td>\n",
       "    </tr>\n",
       "  </tbody>\n",
       "</table>\n",
       "</div>"
      ],
      "text/plain": [
       "                             2007     2008     2009     2010   2011   2012  \\\n",
       "microsoft                   511.8  220.450  245.167  552.000  174.5  848.0   \n",
       "carnegie mellon university  507.9  176.667  431.500  496.167  482.0  174.3   \n",
       "\n",
       "                               2013     2014    2015    2016  \n",
       "microsoft                   416.667  205.333  87.917  35.333  \n",
       "carnegie mellon university  208.833  102.567  98.450  55.000  "
      ]
     },
     "execution_count": 33,
     "metadata": {},
     "output_type": "execute_result"
    }
   ],
   "source": [
    "df_cite.ix[['microsoft','carnegie mellon university'],:]"
   ]
  },
  {
   "cell_type": "code",
   "execution_count": 12,
   "metadata": {
    "collapsed": false
   },
   "outputs": [
    {
     "data": {
      "text/plain": [
       "university college london                               80.400\n",
       "siemens                                                 17.667\n",
       "google                                                 372.967\n",
       "aalborg university                                      29.000\n",
       "princeton university                                    29.000\n",
       "peking university                                       43.400\n",
       "university of minnesota                                 14.500\n",
       "university of california san francisco                  36.000\n",
       "courant institute of mathematical sciences              35.000\n",
       "ecole normale superieure                                25.500\n",
       "university of michigan                                  15.250\n",
       "max planck society                                    1006.833\n",
       "university of california san diego                     157.000\n",
       "university of geneva                                    22.500\n",
       "technical university of berlin                          22.667\n",
       "university of california santa cruz                     35.000\n",
       "oregon state university                                123.000\n",
       "nec                                                     88.000\n",
       "university of turin                                      7.000\n",
       "hewlett packard                                          6.500\n",
       "university of rome tor vergata                          18.500\n",
       "intelligence and national security alliance              2.500\n",
       "weizmann institute of science                           59.000\n",
       "arizona state university                               488.000\n",
       "university of pittsburgh                                 1.500\n",
       "university of tokyo                                     63.000\n",
       "university of utah                                      24.000\n",
       "carnegie mellon university                             507.900\n",
       "siemens healthcare                                      29.000\n",
       "polytechnic university of catalonia                     12.000\n",
       "                                                        ...   \n",
       "disney research                                          0.000\n",
       "university of ulm                                        0.000\n",
       "tohoku university                                        0.000\n",
       "university of buenos aires                               0.000\n",
       "university at buffalo                                    0.000\n",
       "institut eurecom                                         0.000\n",
       "universidade federal do rio grande do sul                0.000\n",
       "robert h smith school of business                        0.000\n",
       "kyushu university                                        0.000\n",
       "shenzhen university                                      0.000\n",
       "fondazione bruno kessler                                 0.000\n",
       "ecole normale superieure de cachan                       0.000\n",
       "rice university                                          0.000\n",
       "institut universitaire de france                         0.000\n",
       "bosch                                                    0.000\n",
       "yandex                                                   0.000\n",
       "mathworks                                                0.000\n",
       "hunter college                                           0.000\n",
       "london school of economics and political science         0.000\n",
       "ulsan national institute of science and technology       0.000\n",
       "university of electro communications                     0.000\n",
       "university of aveiro                                     0.000\n",
       "technische universitat darmstadt                         0.000\n",
       "paris dauphine university                                0.000\n",
       "university of perugia                                    0.000\n",
       "lancaster university                                     0.000\n",
       "urban ministries                                         0.000\n",
       "university of central florida                            0.000\n",
       "university of patras                                     0.000\n",
       "lehigh university                                        0.000\n",
       "Name: 2007, dtype: float64"
      ]
     },
     "execution_count": 12,
     "metadata": {},
     "output_type": "execute_result"
    }
   ],
   "source": [
    "df_cite[2007]"
   ]
  },
  {
   "cell_type": "code",
   "execution_count": null,
   "metadata": {
    "collapsed": true
   },
   "outputs": [],
   "source": []
  }
 ],
 "metadata": {
  "kernelspec": {
   "display_name": "Python 3",
   "language": "python",
   "name": "python3"
  },
  "language_info": {
   "codemirror_mode": {
    "name": "ipython",
    "version": 3
   },
   "file_extension": ".py",
   "mimetype": "text/x-python",
   "name": "python",
   "nbconvert_exporter": "python",
   "pygments_lexer": "ipython3",
   "version": "3.5.2"
  }
 },
 "nbformat": 4,
 "nbformat_minor": 0
}
