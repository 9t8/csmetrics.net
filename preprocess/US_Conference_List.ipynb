{
 "cells": [
  {
   "cell_type": "markdown",
   "metadata": {},
   "source": [
    "# Conference List"
   ]
  },
  {
   "cell_type": "code",
   "execution_count": 1,
   "metadata": {
    "collapsed": true
   },
   "outputs": [],
   "source": [
    "import os, sys\n",
    "import pandas as pd\n",
    "from datetime import datetime \n",
    "\n",
    "data_dir = '/data4/u5790670/citation_network'"
   ]
  },
  {
   "cell_type": "code",
   "execution_count": 4,
   "metadata": {},
   "outputs": [
    {
     "name": "stdout",
     "output_type": "stream",
     "text": [
      "match/miss: 187/20\n"
     ]
    }
   ],
   "source": [
    "conf_file = os.path.join(data_dir, 'data_slim_txt', 'Conferences.txt')\n",
    "conf_df = pd.read_table(conf_file, header=None, names=['ConfID', 'Abbrv', 'FullName'])\n",
    "\n",
    "conf_list_file = os.path.join(data_dir, 'data_slim_txt', 'US_Conference_List.txt')\n",
    "\n",
    "line_cnt = 0\n",
    "match_list = []\n",
    "miss_list = []\n",
    "\n",
    "with open(conf_list_file, 'r') as clf:\n",
    "    for line in clf:\n",
    "        if line_cnt > 0:\n",
    "            venue_name = line.split(' ')[0]\n",
    "            tmp_row = conf_df.loc[conf_df['Abbrv'] == venue_name]\n",
    "            if tmp_row['ConfID'].size == 1:\n",
    "                venue_id = list(tmp_row['ConfID'])[0]\n",
    "                match_list.append(venue_name)\n",
    "            else:\n",
    "                miss_list.append(venue_name)\n",
    "                \n",
    "        line_cnt += 1\n",
    "\n",
    "print(\"match/miss: {}/{}\".format(len(match_list), len(miss_list)))\n",
    "\n"
   ]
  },
  {
   "cell_type": "code",
   "execution_count": 6,
   "metadata": {},
   "outputs": [
    {
     "name": "stdout",
     "output_type": "stream",
     "text": [
      "AAAI AAMAS ACL ACSAC AICCSA AINA ANCS APSCC ARITH ASAP ASE ASPLOS ATS AVSS BIBE BPM CASES CAV CC CCC CCCG CCGRID CCS CGO CHI CIKM CIVR CLUSTER COLING COLT COMPSAC CP CRYPTO CSB CSCW CVPR DAC DATE DCOSS DDECS DIGITEL DISC EC ECAI ECCV ECOOP EDBT EDCC EMNLP EMSOFT ER ESA ESOP ESORICS EUROCRYPT FCCM FMCAD FOCS FSE FSE GECCO HiPC HiPEAC HOTI HPCA HPCC HPDC i3D IAAI ICAC ICALP ICAPS ICASSP ICC ICCAD ICCCN ICCS ICCV ICDCS ICDE ICDM ICDT ICEBE ICFP ICGSE ICIS ICLP ICML ICNP ICPP ICPR ICRA ICS ICSE ICSM ICST ICWS ICWSM IISWC IJCAI IJCAR IMC INFOCOM INTERACT INTERSPEECH IOLTS IPCCC IPDPS IPMI IPSN IROS ISCA ISLPED ISMAR ISMB ISMM ISMVL ISORC ISPA ISPASS ISSAC ISSCC ISSRE ISSTA ISWC ITC IUI KDD KR LCN LCTES LICS MASCOTS MASS MDM MICCAI MICRO MM MobiHoc MobiSys NDSS NIPS NOMS NSDI OOPSLA OSDI PACT PLDI PODC PODS POPL PPoPP PSB RAID RECOMB RTAS RTSS S&P SACMAT SBAC-PAD SDM SEA SEC SenSys SIGCOMM SIGIR SIGMETRICS SIGMOD SoCG SODA SOSE SOSP SPAA SRDS SSDBM STACS STOC TCC UAI UIST VEE WADS WCCI WoWMoM WSDM WWW VR \n"
     ]
    }
   ],
   "source": [
    "str = \"\"\n",
    "for m in match_list:\n",
    "    str += m + ' '\n",
    "print(str)"
   ]
  },
  {
   "cell_type": "code",
   "execution_count": 7,
   "metadata": {},
   "outputs": [
    {
     "name": "stdout",
     "output_type": "stream",
     "text": [
      "3DIM ASIACRYPT CONEXT Eurosys FAST Hypertext JCDL/DL MobiCom Mobisec NAACL/HLT PERCOM RE RSS SAC SC Securecomm UBICOMP USENIX USENIX WiMOB \n"
     ]
    }
   ],
   "source": [
    "str = \"\"\n",
    "for m in miss_list:\n",
    "    str += m + ' '\n",
    "print(str)"
   ]
  }
 ],
 "metadata": {
  "kernelspec": {
   "display_name": "Python 3",
   "language": "python",
   "name": "python3"
  },
  "language_info": {
   "codemirror_mode": {
    "name": "ipython",
    "version": 3
   },
   "file_extension": ".py",
   "mimetype": "text/x-python",
   "name": "python",
   "nbconvert_exporter": "python",
   "pygments_lexer": "ipython3",
   "version": "3.6.1"
  }
 },
 "nbformat": 4,
 "nbformat_minor": 2
}
