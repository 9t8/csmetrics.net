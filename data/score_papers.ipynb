{
 "cells": [
  {
   "cell_type": "code",
   "execution_count": 14,
   "metadata": {},
   "outputs": [],
   "source": [
    "import json, os, csv"
   ]
  },
  {
   "cell_type": "code",
   "execution_count": 15,
   "metadata": {},
   "outputs": [],
   "source": [
    "# filepath to the file containing venue names and their categories (conf or journal)\n",
    "venue_category_filename = os.path.join(os.pardir,\"app\",\"data\",\"venue_category.csv\")\n",
    "\n",
    "filtered_papers_filename = lambda name,year: os.path.join( \"filtered_papers\" , \n",
    "                                              \"{}_{}_filtered_papers.json\".format(name,year) )\n",
    "\n",
    "scores_filename = lambda name,year: os.path.join( \"scores\" , \n",
    "                                              \"{}_{}_affiliations.json\".format(name,year) )\n",
    "\n",
    "yearranges = range(2007,2020)"
   ]
  },
  {
   "cell_type": "code",
   "execution_count": 24,
   "metadata": {},
   "outputs": [],
   "source": [
    "def score_papers(venue,year):\n",
    "    \n",
    "    with open(filtered_papers_filename(venue, year), \"r\") as fh:\n",
    "        papers = json.load(fh)\n",
    "        \n",
    "    \n",
    "    scores = dict()\n",
    "    \n",
    "    citations_counts = dict()\n",
    "    \n",
    "    for paper in papers:\n",
    "        if len(paper[\"MAG papers\"]) == 0:\n",
    "            continue\n",
    "            \n",
    "        mag_paper = max(paper[\"MAG papers\"], key=lambda x: x[\"CitationCount\"])\n",
    "        \n",
    "        affiliations = dict()\n",
    "        \n",
    "        n_affiliations = len(mag_paper[\"Affiliations\"])\n",
    "        \n",
    "        for affiliation in mag_paper[\"Affiliations\"]:\n",
    "            if affiliation == None:\n",
    "                continue\n",
    "            if affiliation not in affiliations:\n",
    "                affiliations[affiliation] = 1/n_affiliations\n",
    "            else:\n",
    "                affiliations[affiliation] += 1/n_affiliations\n",
    "                \n",
    "        for aff, weight in affiliations.items():\n",
    "            if aff not in scores:\n",
    "                scores[aff] = {\"Citation Count\": 0, \"Publication Count\": 0}\n",
    "                \n",
    "            scores[aff][\"Citation Count\"] += weight * mag_paper[\"CitationCount\"]\n",
    "            scores[aff][\"Publication Count\"] += weight\n",
    "        \n",
    "    with open(scores_filename(venue,year), \"w\") as fh:\n",
    "        json.dump(scores, fh)"
   ]
  },
  {
   "cell_type": "code",
   "execution_count": 26,
   "metadata": {
    "scrolled": false
   },
   "outputs": [
    {
     "name": "stdout",
     "output_type": "stream",
     "text": [
      "3dim\n",
      "toplas\n"
     ]
    }
   ],
   "source": [
    "with open(venue_category_filename, \"r\") as fh:\n",
    "    \n",
    "    reader = csv.reader(fh, delimiter=\",\")\n",
    "    \n",
    "    # skip header row\n",
    "    next(reader)\n",
    "    \n",
    "    for row in reader:\n",
    "        \n",
    "        venue_type = row[4]   \n",
    "        venue = row[0]\n",
    "        \n",
    "        try:\n",
    "            for year in yearranges:\n",
    "                score_papers(venue,year)\n",
    "        except:\n",
    "            print(venue)"
   ]
  },
  {
   "cell_type": "code",
   "execution_count": null,
   "metadata": {},
   "outputs": [],
   "source": []
  }
 ],
 "metadata": {
  "kernelspec": {
   "display_name": "Python 3",
   "language": "python",
   "name": "python3"
  },
  "language_info": {
   "codemirror_mode": {
    "name": "ipython",
    "version": 3
   },
   "file_extension": ".py",
   "mimetype": "text/x-python",
   "name": "python",
   "nbconvert_exporter": "python",
   "pygments_lexer": "ipython3",
   "version": "3.6.5"
  }
 },
 "nbformat": 4,
 "nbformat_minor": 2
}
